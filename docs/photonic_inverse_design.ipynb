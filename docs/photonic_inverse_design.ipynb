{
 "cells": [
  {
   "cell_type": "markdown",
   "id": "73aa7671",
   "metadata": {},
   "source": [
    "# Photonic inverse design example\n",
    "\n",
    "In this example, we use the `agjax` wrapper with the [`ceviche-challenges`](https://github.com/google/ceviche-challenges) photonic inverse design suite to carry out inverse design using jax. You must `pip install ceviche_challenges` to enable this notebook to run."
   ]
  },
  {
   "cell_type": "code",
   "execution_count": null,
   "id": "a199697d",
   "metadata": {},
   "outputs": [],
   "source": [
    "import ceviche_challenges\n",
    "import jax\n",
    "import jax.numpy as jnp\n",
    "import matplotlib.pyplot as plt\n",
    "import numpy as onp\n",
    "\n",
    "import agjax"
   ]
  },
  {
   "cell_type": "markdown",
   "id": "7ecdc76b",
   "metadata": {},
   "source": [
    "This example will use the waveguide bend challenge problem; the aim of the challenge is to design a structure which that redirects light from a horizontal waveguide into a vertical waveguide. Begin by constructing the model for the waveguide bend; this gives us an autograd-differentiable `model.simulate` method, which we wrap so that it can be differentiated by jax. "
   ]
  },
  {
   "cell_type": "code",
   "execution_count": null,
   "id": "98e144f4",
   "metadata": {},
   "outputs": [],
   "source": [
    "spec = ceviche_challenges.waveguide_bend.prefabs.waveguide_bend_2umx2um_spec()\n",
    "params = ceviche_challenges.waveguide_bend.prefabs.waveguide_bend_sim_params()\n",
    "waveguide_bend_model = ceviche_challenges.waveguide_bend.model.WaveguideBendModel(params, spec)\n",
    "\n",
    "# The simulate method has signature `fn(design) -> (s_params, fields)`.\n",
    "# Wrap this method, marking the fields as a non-differentiable output.\n",
    "jax_simulate_fn = agjax.wrap_for_jax(\n",
    "    fn=waveguide_bend_model.simulate,\n",
    "    nondiff_outputnums=1,\n",
    ")"
   ]
  },
  {
   "cell_type": "markdown",
   "id": "26bf4e3f",
   "metadata": {},
   "source": [
    "The simulate function has signature `fn(design) -> (s_params, fields)`, where the design is a 2D array giving the _density_ (with values between 0 and 1) at a grid of locations in the design region. Densities of 0 and 1 correspond to the cladding and core materials, respectively, and intermediate values correspond to a blend of the two. The `s_params` and have shape `(num_wavelengths, num_excitation_ports, num_output_ports)`, while the fields have shape `(num_wavelengths, num_excitation_ports, xnum, ynum)`. For the waveguide bend, the default simulation involves excitation with the fundamental waveguide mode from the horizontal input waveguide (port 1) at a single wavelength (1550 nm)."
   ]
  },
  {
   "cell_type": "code",
   "execution_count": null,
   "id": "eb2196c1",
   "metadata": {},
   "outputs": [],
   "source": [
    "# Perform an example simulation, where the design is `1` everywhere.\n",
    "design = jnp.ones(waveguide_bend_model.design_variable_shape)\n",
    "s_params, fields = jax_simulate_fn(design)\n",
    "assert s_params.shape == (1, 1, 2)\n",
    "assert fields.shape[:-2] == (1, 1)\n",
    "\n",
    "fig, ax = plt.subplots(1, 2, figsize=(6, 3))\n",
    "ax[0].imshow(jnp.rot90(waveguide_bend_model.density(design)), cmap=\"gray\")\n",
    "ax[0].set_title(\"Density\")\n",
    "ax[0].axis(\"off\")\n",
    "ax[1].imshow(jnp.rot90(jnp.abs(fields[0, 0, :, :])), cmap=\"magma\")\n",
    "ax[1].set_title(\"Fields\")\n",
    "ax[1].axis(\"off\")"
   ]
  },
  {
   "cell_type": "markdown",
   "id": "b7ae0010",
   "metadata": {},
   "source": [
    "Define a jax loss function which rewards proper wavguide bend behavior. An ideal design has high transmission into the vertical waveguide and low back-reflection into the horizontal waveguide."
   ]
  },
  {
   "cell_type": "code",
   "execution_count": null,
   "id": "4cec287f",
   "metadata": {},
   "outputs": [],
   "source": [
    "def loss_fn(density):\n",
    "  # A simple loss function that rewards high transmission and low reflection.\n",
    "  s_params, fields = jax_simulate_fn(density)\n",
    "  # Transmission is given by `s21`, reflection is given by `s11`.\n",
    "  s11 = jnp.abs(s_params[:, 0, 0])\n",
    "  s21 = jnp.abs(s_params[:, 0, 1])\n",
    "  return jnp.mean(s11) - jnp.mean(s21), (s_params, fields)"
   ]
  },
  {
   "cell_type": "markdown",
   "id": "082bf74f",
   "metadata": {},
   "source": [
    "Optimize a design using basic gradient descent, starting with an initial design that is 0.5-valued everywhere, i.e. with intermediate composition."
   ]
  },
  {
   "cell_type": "code",
   "execution_count": null,
   "id": "585e2937",
   "metadata": {},
   "outputs": [],
   "source": [
    "design = jnp.full(waveguide_bend_model.design_variable_shape, 0.5)\n",
    "learning_rate = 0.1\n",
    "\n",
    "loss_values = []\n",
    "for _ in range(100):\n",
    "  (loss, (s_params, fields)), grad = jax.value_and_grad(loss_fn, has_aux=True)(design)\n",
    "  design = design - learning_rate * grad\n",
    "  # Clip the design so that the permittivity everywhere in the design\n",
    "  # region remains between that of cladding and core materials.\n",
    "  design = jnp.clip(design, 0, 1)\n",
    "  loss_values.append(loss)"
   ]
  },
  {
   "cell_type": "markdown",
   "id": "dff9b1d0",
   "metadata": {},
   "source": [
    "Plot the results of the optimization."
   ]
  },
  {
   "cell_type": "code",
   "execution_count": null,
   "id": "d6d71c01",
   "metadata": {},
   "outputs": [],
   "source": [
    "fig, ax = plt.subplots(1, 3, figsize=(10, 3))\n",
    "ax[0].plot(loss_values)\n",
    "ax[0].set_xlabel(\"step\")\n",
    "ax[0].set_ylabel(\"loss\")\n",
    "ax[1].imshow(jnp.rot90(waveguide_bend_model.density(design)), cmap=\"gray\")\n",
    "ax[1].set_title(\"Density\")\n",
    "ax[1].axis(\"off\")\n",
    "ax[2].imshow(jnp.rot90(jnp.abs(fields[0, 0, :, :])), cmap=\"magma\")\n",
    "ax[2].set_title(\"Fields\")\n",
    "ax[2].axis(\"off\")"
   ]
  }
 ],
 "metadata": {
  "kernelspec": {
   "display_name": "Python 3 (ipykernel)",
   "language": "python",
   "name": "python3"
  },
  "language_info": {
   "codemirror_mode": {
    "name": "ipython",
    "version": 3
   },
   "file_extension": ".py",
   "mimetype": "text/x-python",
   "name": "python",
   "nbconvert_exporter": "python",
   "pygments_lexer": "ipython3",
   "version": "3.9.16"
  }
 },
 "nbformat": 4,
 "nbformat_minor": 5
}
